{
 "cells": [
  {
   "cell_type": "markdown",
   "id": "a787ea78-b62b-4a0e-a789-12a227c565fa",
   "metadata": {},
   "source": [
    "## Design and develop a distributed Hotel booking application using Java RMI. A distributed hotel booking system consists of the hotel server and the client machines. The server manages hotel rooms booking information. A customer can invoke the following operations at his machine \n",
    "i) Book the room for the specific guest \n",
    "ii) Cancel the booking of a guest."
   ]
  },
  {
   "cell_type": "code",
   "execution_count": 3,
   "id": "3fd6913e-0664-4267-b647-844a1423faae",
   "metadata": {},
   "outputs": [],
   "source": [
    "# Server Setup (Runs in background)\n",
    "from xmlrpc.server import SimpleXMLRPCServer\n",
    "import threading\n",
    "\n",
    "bookings = {}\n",
    "\n",
    "def book(guest):\n",
    "    if guest in bookings:\n",
    "        return f\"{guest} already booked.\"\n",
    "    bookings[guest] = True\n",
    "    return f\"{guest} booked.\"\n",
    "\n",
    "def cancel(guest):\n",
    "    if guest in bookings:\n",
    "        del bookings[guest]\n",
    "        return f\"{guest}'s booking cancelled.\"\n",
    "    return f\"No booking for {guest}.\"\n",
    "\n",
    "def run_server():\n",
    "    server = SimpleXMLRPCServer((\"localhost\", 9000), logRequests=False, allow_none=True)\n",
    "    server.register_function(book)\n",
    "    server.register_function(cancel)\n",
    "    server.serve_forever()\n",
    "\n",
    "threading.Thread(target=run_server, daemon=True).start()\n"
   ]
  },
  {
   "cell_type": "code",
   "execution_count": 4,
   "id": "d7533259-ff1a-4f18-bb52-502485bc9ad0",
   "metadata": {},
   "outputs": [
    {
     "name": "stdout",
     "output_type": "stream",
     "text": [
      "Room booked for Alice.\n",
      "Alice already has a booking.\n",
      "Booking cancelled for Alice.\n",
      "No booking found for Bob.\n"
     ]
    }
   ],
   "source": [
    "# Client Code\n",
    "from xmlrpc.client import ServerProxy\n",
    "\n",
    "proxy = ServerProxy(\"http://localhost:9000/\")\n",
    "print(proxy.book(\"Alice\"))\n",
    "print(proxy.book(\"Alice\"))\n",
    "print(proxy.cancel(\"Alice\"))\n",
    "print(proxy.cancel(\"Bob\"))\n"
   ]
  },
  {
   "cell_type": "code",
   "execution_count": null,
   "id": "19f55451-d69b-4613-9481-e3741dd4705c",
   "metadata": {},
   "outputs": [],
   "source": []
  }
 ],
 "metadata": {
  "kernelspec": {
   "display_name": "Python 3 (ipykernel)",
   "language": "python",
   "name": "python3"
  },
  "language_info": {
   "codemirror_mode": {
    "name": "ipython",
    "version": 3
   },
   "file_extension": ".py",
   "mimetype": "text/x-python",
   "name": "python",
   "nbconvert_exporter": "python",
   "pygments_lexer": "ipython3",
   "version": "3.12.6"
  }
 },
 "nbformat": 4,
 "nbformat_minor": 5
}
