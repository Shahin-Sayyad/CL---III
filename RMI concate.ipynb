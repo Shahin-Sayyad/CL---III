{
 "cells": [
  {
   "cell_type": "markdown",
   "id": "fb07567f-9864-4068-8ceb-df9a73995a6f",
   "metadata": {},
   "source": [
    "## Design a distributed application using RMI for remote computation where client submits two strings to the server and server returns the concatenation of the given strings."
   ]
  },
  {
   "cell_type": "code",
   "execution_count": null,
   "id": "28f3e6ab-76f5-4cfb-8187-85ecc303d9ed",
   "metadata": {},
   "outputs": [
    {
     "name": "stdout",
     "output_type": "stream",
     "text": [
      "🚀 Server running on port 8000...\n"
     ]
    }
   ],
   "source": [
    "from xmlrpc.server import SimpleXMLRPCServer\n",
    "def concatenate(s1, s2):\n",
    "    return s1 + s2\n",
    "server = SimpleXMLRPCServer((\"localhost\", 8000))\n",
    "print(\"🚀 Server running on port 8000...\")\n",
    "server.register_function(concatenate, \"concatenate\")\n",
    "server.serve_forever()"
   ]
  },
  {
   "cell_type": "code",
   "execution_count": 1,
   "id": "19738034-b305-4bbc-b6f2-8eb59678e4a1",
   "metadata": {},
   "outputs": [
    {
     "name": "stdin",
     "output_type": "stream",
     "text": [
      "Enter first string:  Hello \n",
      "Enter second string:  Jupyter\n"
     ]
    },
    {
     "name": "stdout",
     "output_type": "stream",
     "text": [
      "Concatenated String: Hello Jupyter\n"
     ]
    }
   ],
   "source": [
    "import xmlrpc.client\n",
    "proxy = xmlrpc.client.ServerProxy(\"http://localhost:8000/\")\n",
    "s1 = input(\"Enter first string: \")\n",
    "s2 = input(\"Enter second string: \")\n",
    "result = proxy.concatenate(s1, s2)\n",
    "print(\"Concatenated String:\", result)"
   ]
  },
  {
   "cell_type": "code",
   "execution_count": null,
   "id": "2c12909d-0263-4647-9fe4-6996a0e0c4e7",
   "metadata": {},
   "outputs": [],
   "source": []
  }
 ],
 "metadata": {
  "kernelspec": {
   "display_name": "Python 3 (ipykernel)",
   "language": "python",
   "name": "python3"
  },
  "language_info": {
   "codemirror_mode": {
    "name": "ipython",
    "version": 3
   },
   "file_extension": ".py",
   "mimetype": "text/x-python",
   "name": "python",
   "nbconvert_exporter": "python",
   "pygments_lexer": "ipython3",
   "version": "3.12.6"
  }
 },
 "nbformat": 4,
 "nbformat_minor": 5
}
