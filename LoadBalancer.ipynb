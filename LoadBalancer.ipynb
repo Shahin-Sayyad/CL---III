{
 "cells": [
  {
   "cell_type": "markdown",
   "id": "80931eee-eb79-47fb-b7d4-69f9cf4bd064",
   "metadata": {},
   "source": [
    "## Write code to simulate requests coming from clients and distribute them among the servers using the load balancing algorithms."
   ]
  },
  {
   "cell_type": "code",
   "execution_count": 1,
   "id": "02eefef1-533c-4905-955c-ca1505296219",
   "metadata": {},
   "outputs": [
    {
     "name": "stdout",
     "output_type": "stream",
     "text": [
      "Server 1 handled request. Load: 1\n",
      "Server 2 handled request. Load: 1\n",
      "Server 3 handled request. Load: 1\n",
      "Server 1 handled request. Load: 2\n",
      "Server 2 handled request. Load: 2\n",
      "Server 1 load: 2\n",
      "Server 2 load: 2\n",
      "Server 3 load: 1\n"
     ]
    }
   ],
   "source": [
    "import random\n",
    "import time\n",
    "\n",
    "class Server:\n",
    "    def __init__(self, id):\n",
    "        self.id = id\n",
    "        self.load = 0\n",
    "\n",
    "    def handle_request(self):\n",
    "        self.load += 1\n",
    "        time.sleep(random.uniform(0.5, 1.5))  # Simulate request handling\n",
    "        print(f\"Server {self.id} handled request. Load: {self.load}\")\n",
    "\n",
    "class LoadBalancer:\n",
    "    def __init__(self, servers, algorithm=\"round_robin\"):\n",
    "        self.servers = servers\n",
    "        self.algorithm = algorithm\n",
    "        self.round_robin_index = 0\n",
    "\n",
    "    def distribute_request(self):\n",
    "        if self.algorithm == \"round_robin\":\n",
    "            server = self.servers[self.round_robin_index]\n",
    "            self.round_robin_index = (self.round_robin_index + 1) % len(self.servers)\n",
    "        else:  # least_connections\n",
    "            server = min(self.servers, key=lambda s: s.load)\n",
    "        server.handle_request()\n",
    "\n",
    "# Example setup\n",
    "servers = [Server(i) for i in range(1, 4)]  # 3 servers\n",
    "lb = LoadBalancer(servers, algorithm=\"least_connections\")  # Change to \"round_robin\" for round robin\n",
    "\n",
    "# Simulate 5 client requests\n",
    "for _ in range(5):\n",
    "    lb.distribute_request()\n",
    "\n",
    "# Show server loads after requests\n",
    "for server in servers:\n",
    "    print(f\"Server {server.id} load: {server.load}\")\n"
   ]
  },
  {
   "cell_type": "code",
   "execution_count": null,
   "id": "20fbaf46-3f4b-4179-832d-4794a26a972a",
   "metadata": {},
   "outputs": [],
   "source": []
  }
 ],
 "metadata": {
  "kernelspec": {
   "display_name": "Python 3 (ipykernel)",
   "language": "python",
   "name": "python3"
  },
  "language_info": {
   "codemirror_mode": {
    "name": "ipython",
    "version": 3
   },
   "file_extension": ".py",
   "mimetype": "text/x-python",
   "name": "python",
   "nbconvert_exporter": "python",
   "pygments_lexer": "ipython3",
   "version": "3.12.6"
  }
 },
 "nbformat": 4,
 "nbformat_minor": 5
}
