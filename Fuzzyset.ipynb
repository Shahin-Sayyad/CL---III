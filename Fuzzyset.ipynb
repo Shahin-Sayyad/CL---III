{
 "cells": [
  {
   "cell_type": "markdown",
   "id": "24fbd9e3-defe-4b85-bf66-b726bba43e1c",
   "metadata": {},
   "source": [
    "## Implement Union, Intersection, Complement and Difference operations on fuzzy sets. Also create fuzzy relations by Cartesian product of any two fuzzy sets and perform max-min composition on any two fuzzy relations."
   ]
  },
  {
   "cell_type": "code",
   "execution_count": 8,
   "id": "709d4e74-bbb2-4307-8482-3cf9702d6c14",
   "metadata": {},
   "outputs": [
    {
     "name": "stdout",
     "output_type": "stream",
     "text": [
      "Union: {'a': 0.7, 'b': 0.8, 'c': 0.9}\n",
      "Intersection: {'a': 0.5, 'b': 0.4, 'c': 0.6}\n",
      "Complement A: {'a': 0.30000000000000004, 'b': 0.6, 'c': 0.09999999999999998}\n",
      "Difference A-B: {'a': 0.19999999999999996, 'b': 0, 'c': 0.30000000000000004}\n",
      "Cartesian Product (A × B): {('a', 'a'): 0.5, ('a', 'b'): 0.7, ('a', 'c'): 0.6, ('b', 'a'): 0.4, ('b', 'b'): 0.4, ('b', 'c'): 0.4, ('c', 'a'): 0.5, ('c', 'b'): 0.8, ('c', 'c'): 0.6}\n",
      "Max-Min Composition: {}\n"
     ]
    }
   ],
   "source": [
    "class FuzzySet:\n",
    "    def __init__(self, universe, memberships):\n",
    "        self.universe = universe\n",
    "        self.memberships = dict(zip(universe, memberships))\n",
    "\n",
    "    def union(self, other):\n",
    "        return FuzzySet(self.universe, [max(self.memberships.get(x, 0), other.memberships.get(x, 0)) for x in self.universe])\n",
    "\n",
    "    def intersection(self, other):\n",
    "        return FuzzySet(self.universe, [min(self.memberships.get(x, 0), other.memberships.get(x, 0)) for x in self.universe])\n",
    "\n",
    "    def complement(self):\n",
    "        return FuzzySet(self.universe, [1 - self.memberships.get(x, 0) for x in self.universe])\n",
    "\n",
    "    def difference(self, other):\n",
    "        return FuzzySet(self.universe, [max(0, self.memberships.get(x, 0) - other.memberships.get(x, 0)) for x in self.universe])\n",
    "\n",
    "class FuzzyRelation:\n",
    "    @staticmethod\n",
    "    def cartesian_product(set1, set2):\n",
    "        return {(x, y): min(set1.memberships.get(x, 0), set2.memberships.get(y, 0)) for x in set1.universe for y in set2.universe}\n",
    "\n",
    "    @staticmethod\n",
    "    def max_min_composition(relation1, relation2):\n",
    "        return {(x1, y2): max(min(m1, m2), 0) for (x1, y1), m1 in relation1.items() for (x2, y2), m2 in relation2.items() if y1 == x2}\n",
    "\n",
    "# Example usage\n",
    "A = FuzzySet(['a', 'b', 'c'], [0.7, 0.4, 0.9])\n",
    "B = FuzzySet(['a', 'b', 'c'], [0.5, 0.8, 0.6])\n",
    "\n",
    "# Operations\n",
    "print(\"Union:\", A.union(B).memberships)\n",
    "print(\"Intersection:\", A.intersection(B).memberships)\n",
    "print(\"Complement A:\", A.complement().memberships)\n",
    "print(\"Difference A-B:\", A.difference(B).memberships)\n",
    "\n",
    "# Fuzzy Relations\n",
    "relation_AB = FuzzyRelation.cartesian_product(A, B)\n",
    "print(\"Cartesian Product (A × B):\", relation_AB)\n",
    "\n",
    "C = FuzzySet(['x', 'y', 'z'], [0.8, 0.6, 0.4])\n",
    "D = FuzzySet(['a', 'b', 'c'], [0.5, 0.7, 0.9])\n",
    "relation_CD = FuzzyRelation.cartesian_product(C, D)\n",
    "\n",
    "# Max-Min Composition\n",
    "composed_relation = FuzzyRelation.max_min_composition(relation_AB, relation_CD)\n",
    "print(\"Max-Min Composition:\", composed_relation)\n"
   ]
  },
  {
   "cell_type": "code",
   "execution_count": null,
   "id": "9c5ecb3a-ef10-43b6-9d65-8e333963f75d",
   "metadata": {},
   "outputs": [],
   "source": []
  }
 ],
 "metadata": {
  "kernelspec": {
   "display_name": "Python 3 (ipykernel)",
   "language": "python",
   "name": "python3"
  },
  "language_info": {
   "codemirror_mode": {
    "name": "ipython",
    "version": 3
   },
   "file_extension": ".py",
   "mimetype": "text/x-python",
   "name": "python",
   "nbconvert_exporter": "python",
   "pygments_lexer": "ipython3",
   "version": "3.12.6"
  }
 },
 "nbformat": 4,
 "nbformat_minor": 5
}
