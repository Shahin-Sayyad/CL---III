{
 "cells": [
  {
   "cell_type": "markdown",
   "id": "47968bca-53d6-4701-9676-d744fb6b7879",
   "metadata": {},
   "source": [
    "## Implement DEAP (Distributed Evolutionary Algorithms) using Python."
   ]
  },
  {
   "cell_type": "code",
   "execution_count": 1,
   "id": "730826c2-fdf5-4bc2-bffd-125085358716",
   "metadata": {},
   "outputs": [
    {
     "name": "stdout",
     "output_type": "stream",
     "text": [
      "Defaulting to user installation because normal site-packages is not writeable\n",
      "Collecting deap\n",
      "  Downloading deap-1.4.2-cp312-cp312-win_amd64.whl.metadata (13 kB)\n",
      "Requirement already satisfied: numpy in c:\\users\\shahin\\appdata\\roaming\\python\\python312\\site-packages (from deap) (2.1.3)\n",
      "Downloading deap-1.4.2-cp312-cp312-win_amd64.whl (109 kB)\n",
      "Installing collected packages: deap\n",
      "Successfully installed deap-1.4.2\n"
     ]
    },
    {
     "name": "stderr",
     "output_type": "stream",
     "text": [
      "\n",
      "[notice] A new release of pip is available: 24.3.1 -> 25.0.1\n",
      "[notice] To update, run: python.exe -m pip install --upgrade pip\n"
     ]
    }
   ],
   "source": [
    "!pip install deap\n"
   ]
  },
  {
   "cell_type": "code",
   "execution_count": 2,
   "id": "604dbe86-57ea-445c-b284-266b5bbaae41",
   "metadata": {},
   "outputs": [
    {
     "name": "stdout",
     "output_type": "stream",
     "text": [
      "gen\tnevals\n",
      "0  \t100   \n",
      "1  \t83    \n",
      "2  \t77    \n",
      "3  \t82    \n",
      "4  \t68    \n",
      "5  \t75    \n",
      "6  \t78    \n",
      "7  \t75    \n",
      "8  \t75    \n",
      "9  \t87    \n",
      "10 \t78    \n",
      "11 \t78    \n",
      "12 \t74    \n",
      "13 \t66    \n",
      "14 \t74    \n",
      "15 \t84    \n",
      "16 \t78    \n",
      "17 \t73    \n",
      "18 \t72    \n",
      "19 \t78    \n",
      "20 \t74    \n",
      "21 \t74    \n",
      "22 \t77    \n",
      "23 \t81    \n",
      "24 \t84    \n",
      "25 \t82    \n",
      "26 \t83    \n",
      "27 \t68    \n",
      "28 \t70    \n",
      "29 \t78    \n",
      "30 \t72    \n",
      "31 \t61    \n",
      "32 \t77    \n",
      "33 \t76    \n",
      "34 \t61    \n",
      "35 \t90    \n",
      "36 \t79    \n",
      "37 \t78    \n",
      "38 \t65    \n",
      "39 \t82    \n",
      "40 \t76    \n",
      "41 \t66    \n",
      "42 \t77    \n",
      "43 \t76    \n",
      "44 \t87    \n",
      "45 \t80    \n",
      "46 \t82    \n",
      "47 \t79    \n",
      "48 \t77    \n",
      "49 \t80    \n",
      "50 \t78    \n",
      "Best Individual: [1, 1, 1, 1, 1, 1, 1, 1, 1, 1]\n",
      "Fitness: 10.0\n"
     ]
    }
   ],
   "source": [
    "import random\n",
    "from deap import base, creator, tools, algorithms\n",
    "import numpy as np\n",
    "\n",
    "# Step 1: Define the problem\n",
    "creator.create(\"FitnessMax\", base.Fitness, weights=(1.0,))  # We want to maximize the fitness\n",
    "creator.create(\"Individual\", list, fitness=creator.FitnessMax)\n",
    "\n",
    "# Step 2: Define the individual creation function\n",
    "def create_individual():\n",
    "    return [random.randint(0, 1) for _ in range(10)]  # Create a binary individual of length 10\n",
    "\n",
    "# Step 3: Define the fitness function\n",
    "def evaluate(individual):\n",
    "    return sum(individual),  # Return a tuple as DEAP requires fitness to be a tuple\n",
    "\n",
    "# Step 4: Register functions with the toolbox\n",
    "toolbox = base.Toolbox()\n",
    "toolbox.register(\"individual\", tools.initIterate, creator.Individual, create_individual)\n",
    "toolbox.register(\"population\", tools.initRepeat, list, toolbox.individual)\n",
    "toolbox.register(\"mate\", tools.cxTwoPoint)  # Crossover: two-point crossover\n",
    "toolbox.register(\"mutate\", tools.mutFlipBit, indpb=0.1)  # Mutation: flip bit with probability 0.1\n",
    "toolbox.register(\"select\", tools.selTournament, tournsize=3)  # Tournament selection\n",
    "toolbox.register(\"evaluate\", evaluate)\n",
    "\n",
    "# Step 5: Set parameters and run the algorithm\n",
    "population_size = 100\n",
    "generations = 50\n",
    "crossover_prob = 0.7\n",
    "mutation_prob = 0.2\n",
    "\n",
    "# Create the population\n",
    "population = toolbox.population(n=population_size)\n",
    "\n",
    "# Run the evolutionary algorithm (using the built-in DEAP algorithm)\n",
    "algorithms.eaSimple(population, toolbox, cxpb=crossover_prob, mutpb=mutation_prob, \n",
    "                    ngen=generations, stats=None, halloffame=None, verbose=True)\n",
    "\n",
    "# Step 6: Output results\n",
    "best_individual = tools.selBest(population, 1)[0]\n",
    "print(f\"Best Individual: {best_individual}\")\n",
    "print(f\"Fitness: {best_individual.fitness.values[0]}\")\n"
   ]
  },
  {
   "cell_type": "code",
   "execution_count": null,
   "id": "ac1035e0-efa3-492f-98c3-aad1a319f085",
   "metadata": {},
   "outputs": [],
   "source": []
  }
 ],
 "metadata": {
  "kernelspec": {
   "display_name": "Python 3 (ipykernel)",
   "language": "python",
   "name": "python3"
  },
  "language_info": {
   "codemirror_mode": {
    "name": "ipython",
    "version": 3
   },
   "file_extension": ".py",
   "mimetype": "text/x-python",
   "name": "python",
   "nbconvert_exporter": "python",
   "pygments_lexer": "ipython3",
   "version": "3.12.6"
  }
 },
 "nbformat": 4,
 "nbformat_minor": 5
}
